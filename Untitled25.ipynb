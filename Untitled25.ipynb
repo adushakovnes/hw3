{
 "cells": [
  {
   "cell_type": "code",
   "execution_count": 9,
   "id": "ba7de3cf",
   "metadata": {},
   "outputs": [],
   "source": [
    "import random\n",
    "class Machine:\n",
    "    def __init__(self, machine_id: int):\n",
    "        self.id = machine_id  # Уникальный идентификатор машины\n",
    "        self.status = \"parked\"  # Статус: на парковке или на пути\n",
    "        self.current_path = []  # Набор точек пути\n",
    "        self.coordinates = (0, 0, 0)  # Координаты машины\n",
    "    \n",
    "    def send_to_path(self, path: list):\n",
    "        \"\"\"Отправить машину на путь\"\"\"\n",
    "        self.current_path = path\n",
    "        self.status = \"on_path\"\n",
    "        self.coordinates = (random.uniform(0,path[0]),random.uniform(0,path[1]),random.uniform(0,path[2]))  # Устанавливаем начальные координаты\n",
    "\n",
    "    def park(self):\n",
    "        \"\"\"Отправить машину на парковку\"\"\"\n",
    "        self.status = \"parked\"\n",
    "        self.current_path = []\n",
    "        self.coordinates = (0, 0, 0)\n",
    "\n",
    "\n",
    "class DrillMachine(Machine):\n",
    "    def drill(self):\n",
    "        \"\"\"Имитация бурения\"\"\"\n",
    "        if self.status == \"on_path\":\n",
    "            print(f'Буровая установка находится в точке {self.coordinates}')\n",
    "        elif self.status == 'parked':\n",
    "            print('На парковке')\n",
    "\n",
    "\n",
    "\n",
    "class CartographyMachine(Machine):\n",
    "    def map_paths(self):\n",
    "        \"\"\"Имитация картографирования\"\"\"\n",
    "        if self.status == \"on_path\":\n",
    "            print(f\"Картографическая машина {self.id} картографирует путь {self.current_path}.\")\n",
    "        elif self.status == 'parked':\n",
    "            print('На парковке')\n",
    "\n",
    "\n",
    "class InspectionMachine(Machine):\n",
    "    def inspect_supports(self):\n",
    "        \"\"\"Имитация осмотра крепей\"\"\"\n",
    "        if self.status == \"on_path\":\n",
    "            print(f\"Машина осмотра крепей {self.id} осматривает крепи в точке {self.coordinates}.\")\n",
    "        elif self.status == 'parked':\n",
    "            print('На парковке')\n",
    "\n",
    "\n",
    "class Controller:\n",
    "    def __init__(self):\n",
    "        self.machines = []  # Список всех машин\n",
    "\n",
    "    def add_machine(self, machine: Machine):\n",
    "        \"\"\"Добавить машину в систему\"\"\"\n",
    "        self.machines.append(machine)\n",
    "\n",
    "    def assign_machine(self, machine: Machine, path: list):\n",
    "        \"\"\"Назначить машине путь\"\"\"\n",
    "        machine.send_to_path(path)\n",
    "        print(f\"Машина {machine.id} назначена на путь {path}.\")\n",
    "\n",
    "    def send_to_repair(self, machine: Machine):\n",
    "        \"\"\"Отправить машину в ремонт\"\"\"\n",
    "        machine.park()\n",
    "        print(f\"Машина {machine.id} отправлена в ремонт.\")\n",
    "\n",
    "    def get_status(self, machine: Machine):\n",
    "        \"\"\"Вывести статус машины\"\"\"\n",
    "        print(f\"Статус машины {machine.id}: {machine.status}\")\n",
    "        print(f\"Текущий путь: {machine.current_path}\")\n",
    "        print(f\"Текущие координаты: {machine.coordinates}\")\n",
    "\n",
    "\n",
    "        \n",
    "\n",
    "controller = Controller()  # Создание контроллера\n",
    "drill = DrillMachine(1)  # Создание буровой установки\n",
    "cartography = CartographyMachine(2)  # Создание картографической машины\n",
    "inspection = InspectionMachine(3)  # Создание машины осмотра крепей\n",
    "\n",
    "controller.add_machine(drill)  # Добавление машин в систему\n",
    "controller.add_machine(cartography)\n",
    "controller.add_machine(inspection)\n",
    "\n",
    "path_example = [(10, 20, 5), (15, 25, 10), (20, 30, 15)]  # Пример пути\n"
   ]
  },
  {
   "cell_type": "code",
   "execution_count": 10,
   "id": "2a3458b1",
   "metadata": {},
   "outputs": [
    {
     "name": "stdout",
     "output_type": "stream",
     "text": [
      "Машина 1 назначена на путь (10, 20, 5).\n"
     ]
    }
   ],
   "source": [
    "controller.assign_machine(drill,random.choice(path_example))"
   ]
  },
  {
   "cell_type": "code",
   "execution_count": 11,
   "id": "08f08f47",
   "metadata": {},
   "outputs": [
    {
     "name": "stdout",
     "output_type": "stream",
     "text": [
      "Статус машины 1: on_path\n",
      "Текущий путь: (10, 20, 5)\n",
      "Текущие координаты: (6.023606435717514, 0.4757770811602735, 4.42639250727357)\n"
     ]
    }
   ],
   "source": [
    "controller.get_status(drill)"
   ]
  },
  {
   "cell_type": "code",
   "execution_count": 12,
   "id": "26c8933a",
   "metadata": {},
   "outputs": [
    {
     "name": "stdout",
     "output_type": "stream",
     "text": [
      "Буровая установка находится в точке (6.023606435717514, 0.4757770811602735, 4.42639250727357)\n"
     ]
    }
   ],
   "source": [
    "drill.drill()"
   ]
  },
  {
   "cell_type": "code",
   "execution_count": 13,
   "id": "55bcac1d",
   "metadata": {},
   "outputs": [
    {
     "name": "stdout",
     "output_type": "stream",
     "text": [
      "Машина 1 отправлена в ремонт.\n"
     ]
    }
   ],
   "source": [
    "controller.send_to_repair(drill)"
   ]
  },
  {
   "cell_type": "code",
   "execution_count": 14,
   "id": "c905ff83",
   "metadata": {},
   "outputs": [
    {
     "name": "stdout",
     "output_type": "stream",
     "text": [
      "На парковке\n"
     ]
    }
   ],
   "source": [
    "drill.drill()"
   ]
  }
 ],
 "metadata": {
  "kernelspec": {
   "display_name": "Python 3 (ipykernel)",
   "language": "python",
   "name": "python3"
  },
  "language_info": {
   "codemirror_mode": {
    "name": "ipython",
    "version": 3
   },
   "file_extension": ".py",
   "mimetype": "text/x-python",
   "name": "python",
   "nbconvert_exporter": "python",
   "pygments_lexer": "ipython3",
   "version": "3.11.5"
  }
 },
 "nbformat": 4,
 "nbformat_minor": 5
}
